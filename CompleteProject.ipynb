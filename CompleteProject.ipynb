{
    "cells": [
        {
            "metadata": {
                "button": false,
                "new_sheet": false,
                "run_control": {
                    "read_only": false
                }
            },
            "cell_type": "markdown",
            "source": "<a href=\"https://cognitiveclass.ai\"><img src = \"https://s3-api.us-geo.objectstorage.softlayer.net/cf-courses-data/CognitiveClass/Logos/organization_logo/organization_logo.png\" width = 400> </a>\n\n<h1 align=center><font size = 5>Peer Review Final Assignment</font></h1>"
        },
        {
            "metadata": {
                "button": false,
                "new_sheet": false,
                "run_control": {
                    "read_only": false
                }
            },
            "cell_type": "markdown",
            "source": "## Introduction\n"
        },
        {
            "metadata": {
                "button": false,
                "new_sheet": false,
                "run_control": {
                    "read_only": false
                }
            },
            "cell_type": "markdown",
            "source": "In this lab, you will build an image classifier using the VGG16 pre-trained model, and you will evaluate it and compare its performance to the model we built in the last module using the ResNet50 pre-trained model. Good luck!"
        },
        {
            "metadata": {
                "button": false,
                "new_sheet": false,
                "run_control": {
                    "read_only": false
                }
            },
            "cell_type": "markdown",
            "source": "## Table of Contents\n\n<div class=\"alert alert-block alert-info\" style=\"margin-top: 20px\">\n\n<font size = 3>    \n\n1. <a href=\"#item41\">Download Data \n2. <a href=\"#item42\">Part 1</a>\n3. <a href=\"#item43\">Part 2</a>  \n4. <a href=\"#item44\">Part 3</a>  \n\n</font>\n    \n</div>"
        },
        {
            "metadata": {
                "button": false,
                "new_sheet": false,
                "run_control": {
                    "read_only": false
                }
            },
            "cell_type": "markdown",
            "source": "   "
        },
        {
            "metadata": {},
            "cell_type": "markdown",
            "source": "<a id=\"item41\"></a>"
        },
        {
            "metadata": {},
            "cell_type": "markdown",
            "source": "## Download Data"
        },
        {
            "metadata": {},
            "cell_type": "markdown",
            "source": "Use the <code>wget</code> command to download the data for this assignment from here: https://s3-api.us-geo.objectstorage.softlayer.net/cf-courses-data/CognitiveClass/DL0321EN/data/concrete_data_week4.zip"
        },
        {
            "metadata": {},
            "cell_type": "markdown",
            "source": "Use the following cells to download the data."
        },
        {
            "metadata": {},
            "cell_type": "code",
            "source": "!wget https://s3-api.us-geo.objectstorage.softlayer.net/cf-courses-data/CognitiveClass/DL0321EN/data/concrete_data_week4.zip",
            "execution_count": null,
            "outputs": []
        },
        {
            "metadata": {},
            "cell_type": "code",
            "source": "!unzip concrete_data_week4.zip",
            "execution_count": null,
            "outputs": []
        },
        {
            "metadata": {},
            "cell_type": "markdown",
            "source": "After you unzip the data, you fill find the data has already been divided into a train, validation, and test sets."
        },
        {
            "metadata": {},
            "cell_type": "markdown",
            "source": "  "
        },
        {
            "metadata": {
                "button": false,
                "new_sheet": false,
                "run_control": {
                    "read_only": false
                }
            },
            "cell_type": "markdown",
            "source": "<a id=\"item42\"></a>"
        },
        {
            "metadata": {},
            "cell_type": "markdown",
            "source": "## Part 1"
        },
        {
            "metadata": {},
            "cell_type": "markdown",
            "source": "In this part, you will design a classifier using the VGG16 pre-trained model. Just like the ResNet50 model, you can import the model <code>VGG16</code> from <code>keras.applications</code>."
        },
        {
            "metadata": {},
            "cell_type": "markdown",
            "source": "You will essentially build your classifier as follows:\n1. Import libraries, modules, and packages you will need. Make sure to import the *preprocess_input* function from <code>keras.applications.vgg16</code>.\n2. Use a batch size of 100 images for both training and validation.\n3. Construct an ImageDataGenerator for the training set and another one for the validation set. VGG16 was originally trained on 224 \u00d7 224 images, so make sure to address that when defining the ImageDataGenerator instances.\n4. Create a sequential model using Keras. Add VGG16 model to it and dense layer.\n5. Compile the mode using the adam optimizer and the categorical_crossentropy loss function.\n6. Fit the model on the augmented data using the ImageDataGenerators."
        },
        {
            "metadata": {},
            "cell_type": "code",
            "source": "# 1 - import libraries\nfrom keras.preprocessing.image import ImageDataGenerator\nimport keras\nfrom keras.models import Sequential\nfrom keras.layers import Dense\n\nfrom keras.applications import VGG16\nfrom keras.applications.vgg16 import preprocess_input",
            "execution_count": 1,
            "outputs": [
                {
                    "output_type": "stream",
                    "text": "Using TensorFlow backend.\n",
                    "name": "stderr"
                }
            ]
        },
        {
            "metadata": {},
            "cell_type": "markdown",
            "source": "Use the following cells to create your classifier."
        },
        {
            "metadata": {},
            "cell_type": "code",
            "source": "# 2 - Use a batch size of 100 images for both training and validation.\n\n#declare global constants\nnum_classes = 2\nimage_resize = 224\n\nbatch_size_training = 100\nbatch_size_validation = 100",
            "execution_count": 2,
            "outputs": []
        },
        {
            "metadata": {},
            "cell_type": "code",
            "source": "# 3 - Construct an ImageDataGenerator for the training set and another one for the validation set.\n\ndata_generator = ImageDataGenerator(\n    preprocessing_function=preprocess_input,\n)\n\n# train generator\ntrain_generator = data_generator.flow_from_directory(\n    'concrete_data_week4/train',\n    target_size=(image_resize, image_resize),\n    batch_size=batch_size_training,\n    class_mode='categorical')\n\ntrain_generator",
            "execution_count": 3,
            "outputs": [
                {
                    "output_type": "stream",
                    "text": "Found 30001 images belonging to 2 classes.\n",
                    "name": "stdout"
                },
                {
                    "output_type": "execute_result",
                    "execution_count": 3,
                    "data": {
                        "text/plain": "<keras_preprocessing.image.DirectoryIterator at 0x7ff6d60b3358>"
                    },
                    "metadata": {}
                }
            ]
        },
        {
            "metadata": {
                "scrolled": true
            },
            "cell_type": "code",
            "source": "# validation generator\nvalidation_generator = data_generator.flow_from_directory(\n    'concrete_data_week4/valid',\n    target_size=(image_resize, image_resize),\n    batch_size=batch_size_validation,\n    class_mode='categorical')\n\nvalidation_generator\n",
            "execution_count": 4,
            "outputs": [
                {
                    "output_type": "stream",
                    "text": "Found 9501 images belonging to 2 classes.\n",
                    "name": "stdout"
                },
                {
                    "output_type": "execute_result",
                    "execution_count": 4,
                    "data": {
                        "text/plain": "<keras_preprocessing.image.DirectoryIterator at 0x7ff7150a2d68>"
                    },
                    "metadata": {}
                }
            ]
        },
        {
            "metadata": {},
            "cell_type": "code",
            "source": "# 4 - Create a sequential model using Keras. Add VGG16 model to it and dense layer\nmodel = Sequential()\n\n# exclude the top layer and build own\nmodel.add(VGG16(\n    include_top=False,\n    pooling='avg',\n    weights='imagenet',\n    ))",
            "execution_count": null,
            "outputs": [
                {
                    "output_type": "stream",
                    "text": "WARNING:tensorflow:From /opt/conda/envs/Python36/lib/python3.6/site-packages/tensorflow/python/framework/op_def_library.py:263: colocate_with (from tensorflow.python.framework.ops) is deprecated and will be removed in a future version.\nInstructions for updating:\nColocations handled automatically by placer.\n",
                    "name": "stdout"
                }
            ]
        },
        {
            "metadata": {},
            "cell_type": "code",
            "source": "# add output layer\nmodel.add(Dense(num_classes, activation='softmax'))\n\n# view layers\nmodel.layers",
            "execution_count": null,
            "outputs": [
                {
                    "output_type": "execute_result",
                    "execution_count": 6,
                    "data": {
                        "text/plain": "[<keras.engine.training.Model at 0x7ff7148400f0>,\n <keras.layers.core.Dense at 0x7ff6d40e16a0>]"
                    },
                    "metadata": {}
                }
            ]
        },
        {
            "metadata": {},
            "cell_type": "code",
            "source": "# since the model is trained, exclude first layer from training\nmodel.layers[0].trainable = False\n",
            "execution_count": null,
            "outputs": []
        },
        {
            "metadata": {},
            "cell_type": "code",
            "source": "# view parameters to be optimized\nmodel.summary()",
            "execution_count": null,
            "outputs": [
                {
                    "output_type": "stream",
                    "text": "_________________________________________________________________\nLayer (type)                 Output Shape              Param #   \n=================================================================\nvgg16 (Model)                (None, 512)               14714688  \n_________________________________________________________________\ndense_1 (Dense)              (None, 2)                 1026      \n=================================================================\nTotal params: 14,715,714\nTrainable params: 1,026\nNon-trainable params: 14,714,688\n_________________________________________________________________\n",
                    "name": "stdout"
                }
            ]
        },
        {
            "metadata": {},
            "cell_type": "code",
            "source": "# 5 - Compile the mode using the adam optimizer and the categorical_crossentropy loss function.\nmodel.compile(optimizer='adam', loss='categorical_crossentropy', metrics=['accuracy'])",
            "execution_count": null,
            "outputs": []
        },
        {
            "metadata": {},
            "cell_type": "code",
            "source": "# 6 - Fit the model on the augmented data using the ImageDataGenerators.\n\n# define the epochs\nsteps_per_epoch_training = len(train_generator)\nsteps_per_epoch_validation = len(validation_generator)\nnum_epochs = 2\n\nfit_history = model.fit_generator(\n    train_generator,\n    steps_per_epoch=steps_per_epoch_training,\n    epochs=num_epochs,\n    validation_data=validation_generator,\n    validation_steps=steps_per_epoch_validation,\n    verbose=1,\n)",
            "execution_count": null,
            "outputs": [
                {
                    "output_type": "stream",
                    "text": "WARNING:tensorflow:From /opt/conda/envs/Python36/lib/python3.6/site-packages/tensorflow/python/ops/math_ops.py:3066: to_int32 (from tensorflow.python.ops.math_ops) is deprecated and will be removed in a future version.\nInstructions for updating:\nUse tf.cast instead.\nEpoch 1/2\n176/301 [================>.............] - ETA: 1:03:06 - loss: 0.3199 - acc: 0.8764",
                    "name": "stdout"
                }
            ]
        },
        {
            "metadata": {},
            "cell_type": "code",
            "source": "# save the model\nmodel.save('classifier_vgg16_model.h5')",
            "execution_count": null,
            "outputs": []
        },
        {
            "metadata": {},
            "cell_type": "code",
            "source": "",
            "execution_count": null,
            "outputs": []
        },
        {
            "metadata": {},
            "cell_type": "markdown",
            "source": "   "
        },
        {
            "metadata": {},
            "cell_type": "markdown",
            "source": "<a id=\"item43\"></a>"
        },
        {
            "metadata": {},
            "cell_type": "markdown",
            "source": "## Part 2"
        },
        {
            "metadata": {},
            "cell_type": "markdown",
            "source": "In this part, you will evaluate your deep learning models on a test data. For this part, you will need to do the following:\n\n1. Load your saved model that was built using the ResNet50 model. \n2. Construct an ImageDataGenerator for the test set. For this ImageDataGenerator instance, you only need to pass the directory of the test images, target size, and the **shuffle** parameter and set it to False.\n3. Use the **evaluate_generator** method to evaluate your models on the test data, by passing the above ImageDataGenerator as an argument. You can learn more about **evaluate_generator** [here](https://keras.io/models/sequential/).\n4. Print the performance of the classifier using the VGG16 pre-trained model.\n5. Print the performance of the classifier using the ResNet pre-trained model.\n"
        },
        {
            "metadata": {},
            "cell_type": "markdown",
            "source": "Use the following cells to evaluate your models."
        },
        {
            "metadata": {},
            "cell_type": "code",
            "source": "# 1 - Load your saved model that was built using the ResNet50 model\nfrom keras.models import load_model\nVGG16_model = load_model('classifier_VGG16_model.h5')\nResNet50_model = load_model('classifier_resnet_model.h5')",
            "execution_count": null,
            "outputs": []
        },
        {
            "metadata": {},
            "cell_type": "code",
            "source": "\ndata_generator = ImageDataGenerator(\n    preprocessing_function=preprocess_input,\n)\n\n# test generator\ntest_generator = data_generator.flow_from_directory(\n    'concrete_data_week4/test',\n    target_size=(image_resize, image_resize),\n    shuffle=false)\n\ntest_generator",
            "execution_count": null,
            "outputs": []
        },
        {
            "metadata": {},
            "cell_type": "code",
            "source": "VGG16_scores = VGG16_model.evaluate_generator(test_generator)\nResNet50_scores = ResNet50_model.evaluate_generator(test_generator)",
            "execution_count": null,
            "outputs": []
        },
        {
            "metadata": {},
            "cell_type": "code",
            "source": "print(\"VGG16 Accuracy: {} \\n Error: {}\".format(VGG16_scores[1], 100-VGG16_scores[1]*100))\nprint(\"ResNet50 Accuracy: {} \\n Error: {}\".format(ResNet50_scores[1], 100-ResNet50_scores[1]*100))",
            "execution_count": null,
            "outputs": []
        },
        {
            "metadata": {},
            "cell_type": "markdown",
            "source": "   "
        },
        {
            "metadata": {},
            "cell_type": "markdown",
            "source": "<a id=\"item44\"></a>"
        },
        {
            "metadata": {},
            "cell_type": "markdown",
            "source": "## Part 3"
        },
        {
            "metadata": {},
            "cell_type": "markdown",
            "source": "In this model, you will predict whether the images in the test data are images of cracked concrete or not. You will do the following:\n\n1. Use the **predict_generator** method to predict the class of the images in the test data, by passing the test data ImageDataGenerator instance defined in the previous part as an argument. You can learn more about the **predict_generator** method [here](https://keras.io/models/sequential/).\n2. Report the class predictions of the first five images in the test set. You should print something list this:\n\n<center>\n    <ul style=\"list-style-type:none\">\n        <li>Positive</li>  \n        <li>Negative</li> \n        <li>Positive</li>\n        <li>Positive</li>\n        <li>Negative</li>\n    </ul>\n</center>"
        },
        {
            "metadata": {},
            "cell_type": "markdown",
            "source": "Use the following cells to make your predictions."
        },
        {
            "metadata": {},
            "cell_type": "code",
            "source": "small_sample= test_generator[0:5]\nVGG16_predict = VGG16_model.predict_generator(small_sample)\n\nVGG16_predict",
            "execution_count": null,
            "outputs": []
        },
        {
            "metadata": {},
            "cell_type": "code",
            "source": "",
            "execution_count": null,
            "outputs": []
        },
        {
            "metadata": {},
            "cell_type": "code",
            "source": "",
            "execution_count": null,
            "outputs": []
        },
        {
            "metadata": {},
            "cell_type": "code",
            "source": "",
            "execution_count": null,
            "outputs": []
        },
        {
            "metadata": {},
            "cell_type": "markdown",
            "source": "  "
        },
        {
            "metadata": {
                "button": false,
                "new_sheet": false,
                "run_control": {
                    "read_only": false
                }
            },
            "cell_type": "markdown",
            "source": "### Thank you for completing this lab!\n\nThis notebook was created by Alex Aklson."
        },
        {
            "metadata": {
                "button": false,
                "new_sheet": false,
                "run_control": {
                    "read_only": false
                }
            },
            "cell_type": "markdown",
            "source": "This notebook is part of a course on **Coursera** called *AI Capstone Project with Deep Learning*. If you accessed this notebook outside the course, you can take this course online by clicking [here](https://cocl.us/DL0321EN_Coursera_Week4_LAB1)."
        },
        {
            "metadata": {
                "button": false,
                "new_sheet": false,
                "run_control": {
                    "read_only": false
                }
            },
            "cell_type": "markdown",
            "source": "<hr>\n\nCopyright &copy; 2020 [IBM Developer Skills Network](https://cognitiveclass.ai/?utm_source=bducopyrightlink&utm_medium=dswb&utm_campaign=bdu). This notebook and its source code are released under the terms of the [MIT License](https://bigdatauniversity.com/mit-license/)."
        }
    ],
    "metadata": {
        "kernelspec": {
            "name": "python3",
            "display_name": "Python 3.6",
            "language": "python"
        },
        "language_info": {
            "name": "python",
            "version": "3.6.9",
            "mimetype": "text/x-python",
            "codemirror_mode": {
                "name": "ipython",
                "version": 3
            },
            "pygments_lexer": "ipython3",
            "nbconvert_exporter": "python",
            "file_extension": ".py"
        }
    },
    "nbformat": 4,
    "nbformat_minor": 4
}